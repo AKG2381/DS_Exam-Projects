{
 "cells": [
  {
   "cell_type": "markdown",
   "id": "2ac40eea",
   "metadata": {},
   "source": [
    "You work in a news agency & are responsible for identifying the most\n",
    "important topic for writing articles by your content team. Develop a\n",
    "Jupyter Notebook which on executing every time shows top 10 Twitter\n",
    "trending topics in India in the last 24 hours. Hints: Connecting with Twitter\n",
    "API. Bringing Dashboard-like behaviour in Jupyter notebook. Please note:\n",
    "Visualisation is mandatory. You will receive 0 marks if you do not add\n",
    "visualisation."
   ]
  },
  {
   "cell_type": "code",
   "execution_count": 1,
   "id": "09ed2abf",
   "metadata": {},
   "outputs": [],
   "source": [
    "import tweepy \n",
    "import sys \n",
    "import pandas as pd \n",
    "from langdetect import detect\n",
    "import matplotlib.pyplot as plt\n",
    "import seaborn as sns\n",
    "import warnings\n",
    "warnings.filterwarnings('ignore')\n",
    "\n",
    "\n"
   ]
  },
  {
   "cell_type": "code",
   "execution_count": 2,
   "id": "82218300",
   "metadata": {},
   "outputs": [],
   "source": [
    "# initialize api instance\n",
    "consumer_key= '5Y0COk105m3rPpc5IA9lGyU9o'\n",
    "consumer_secret= 'KPTlYweV1H13m3h1MMORVvQ3rqBCAKAltiMhnnWaWlX8h9bSII'\n",
    "access_token='1303595051524612097-k5DnRVCMJQbeS2P6vpl74SKSXameo9'\n",
    "\n",
    "access_token_secret ='0yAZPfI9tuDpcvOCfvXZ066M6uuNMuZBE0gXytpa0ikCG'\n"
   ]
  },
  {
   "cell_type": "code",
   "execution_count": 3,
   "id": "6bc9f8ad",
   "metadata": {},
   "outputs": [],
   "source": [
    "#Connect to Twitter through the API\n",
    "auth = tweepy.OAuthHandler(consumer_key, consumer_secret) \n",
    "auth.set_access_token(access_token, access_token_secret) \n",
    "api = tweepy.API(auth,wait_on_rate_limit=True) "
   ]
  },
  {
   "cell_type": "code",
   "execution_count": 4,
   "id": "ab4eccc9",
   "metadata": {},
   "outputs": [
    {
     "data": {
      "text/plain": [
       "{'name': 'Worldwide',\n",
       " 'placeType': {'code': 19, 'name': 'Supername'},\n",
       " 'url': 'http://where.yahooapis.com/v1/place/1',\n",
       " 'parentid': 0,\n",
       " 'country': '',\n",
       " 'woeid': 1,\n",
       " 'countryCode': None}"
      ]
     },
     "execution_count": 4,
     "metadata": {},
     "output_type": "execute_result"
    }
   ],
   "source": [
    "api.available_trends()[0]"
   ]
  },
  {
   "cell_type": "code",
   "execution_count": 5,
   "id": "fac8eaf1",
   "metadata": {},
   "outputs": [
    {
     "name": "stdout",
     "output_type": "stream",
     "text": [
      "dict_keys(['name', 'placeType', 'url', 'parentid', 'country', 'woeid', 'countryCode'])\n"
     ]
    }
   ],
   "source": [
    "for val in api.available_trends():\n",
    "    if val['country'] == 'India':\n",
    "        print(val.keys())\n",
    "        break"
   ]
  },
  {
   "cell_type": "code",
   "execution_count": 6,
   "id": "9d3eb041",
   "metadata": {},
   "outputs": [
    {
     "name": "stdout",
     "output_type": "stream",
     "text": [
      "dict_values(['Nagpur', {'code': 7, 'name': 'Town'}, 'http://where.yahooapis.com/v1/place/2282863', 23424848, 'India', 2282863, 'IN'])\n"
     ]
    }
   ],
   "source": [
    "for val in api.available_trends():\n",
    "    if val['country'] == 'India':\n",
    "        print(val.values())\n",
    "        break"
   ]
  },
  {
   "cell_type": "code",
   "execution_count": 7,
   "id": "54f2d096",
   "metadata": {},
   "outputs": [],
   "source": [
    "def get_woeid(place):\n",
    "    '''Get woeid by location'''\n",
    "    try:\n",
    "        trends = api.available_trends()\n",
    "        for val in trends:\n",
    "            if (val['name'].lower() == place.lower()):\n",
    "                return(val['woeid']) \n",
    "        print('Location Not Found')\n",
    "    except Exception as e:\n",
    "        print('Exception:',e)\n",
    "        return(0)"
   ]
  },
  {
   "cell_type": "code",
   "execution_count": 8,
   "id": "bd4a987a",
   "metadata": {},
   "outputs": [
    {
     "data": {
      "text/plain": [
       "23424848"
      ]
     },
     "execution_count": 8,
     "metadata": {},
     "output_type": "execute_result"
    }
   ],
   "source": [
    "get_woeid('India')"
   ]
  },
  {
   "cell_type": "code",
   "execution_count": 9,
   "id": "b407c8ad",
   "metadata": {},
   "outputs": [],
   "source": [
    "def top_ten_trends(loc_id,count):\n",
    "    '''Get Trending Tweets by Location'''\n",
    "    try:\n",
    "        trends = api.get_place_trends(loc_id)\n",
    "        df = pd.DataFrame([trending['name'],  trending['tweet_volume']] for trending in trends[0]['trends'] )\n",
    "        df.columns = ['Trending_topic','_tweet_Volume_of_topic']\n",
    "        df = df.sort_values('_tweet_Volume_of_topic', ascending = False)\n",
    "        return(df[:count])\n",
    "    except Exception as e:\n",
    "        print(\"An exception occurred\",e)\n"
   ]
  },
  {
   "cell_type": "code",
   "execution_count": 10,
   "id": "79c7b8b9",
   "metadata": {},
   "outputs": [
    {
     "data": {
      "text/html": [
       "<div>\n",
       "<style scoped>\n",
       "    .dataframe tbody tr th:only-of-type {\n",
       "        vertical-align: middle;\n",
       "    }\n",
       "\n",
       "    .dataframe tbody tr th {\n",
       "        vertical-align: top;\n",
       "    }\n",
       "\n",
       "    .dataframe thead th {\n",
       "        text-align: right;\n",
       "    }\n",
       "</style>\n",
       "<table border=\"1\" class=\"dataframe\">\n",
       "  <thead>\n",
       "    <tr style=\"text-align: right;\">\n",
       "      <th></th>\n",
       "      <th>Trending_topic</th>\n",
       "      <th>_tweet_Volume_of_topic</th>\n",
       "    </tr>\n",
       "  </thead>\n",
       "  <tbody>\n",
       "    <tr>\n",
       "      <th>7</th>\n",
       "      <td>MIGHTY WINNER SHIV</td>\n",
       "      <td>590363.0</td>\n",
       "    </tr>\n",
       "    <tr>\n",
       "      <th>9</th>\n",
       "      <td>HAQ SE WINNER MC STAN</td>\n",
       "      <td>542976.0</td>\n",
       "    </tr>\n",
       "    <tr>\n",
       "      <th>22</th>\n",
       "      <td>Sant Rampal Ji Maharaj App</td>\n",
       "      <td>310537.0</td>\n",
       "    </tr>\n",
       "    <tr>\n",
       "      <th>25</th>\n",
       "      <td>Coldplay</td>\n",
       "      <td>154187.0</td>\n",
       "    </tr>\n",
       "    <tr>\n",
       "      <th>34</th>\n",
       "      <td>ज्ञान अमृत</td>\n",
       "      <td>147801.0</td>\n",
       "    </tr>\n",
       "    <tr>\n",
       "      <th>43</th>\n",
       "      <td>पवित्र पुस्तक गीता</td>\n",
       "      <td>137779.0</td>\n",
       "    </tr>\n",
       "    <tr>\n",
       "      <th>47</th>\n",
       "      <td>Matru Pitru Pujan Diwas</td>\n",
       "      <td>86689.0</td>\n",
       "    </tr>\n",
       "    <tr>\n",
       "      <th>42</th>\n",
       "      <td>F-22</td>\n",
       "      <td>85364.0</td>\n",
       "    </tr>\n",
       "    <tr>\n",
       "      <th>23</th>\n",
       "      <td>seokjin</td>\n",
       "      <td>61483.0</td>\n",
       "    </tr>\n",
       "    <tr>\n",
       "      <th>26</th>\n",
       "      <td>Kashmir Solidarity Day</td>\n",
       "      <td>54094.0</td>\n",
       "    </tr>\n",
       "  </tbody>\n",
       "</table>\n",
       "</div>"
      ],
      "text/plain": [
       "                Trending_topic  _tweet_Volume_of_topic\n",
       "7           MIGHTY WINNER SHIV                590363.0\n",
       "9        HAQ SE WINNER MC STAN                542976.0\n",
       "22  Sant Rampal Ji Maharaj App                310537.0\n",
       "25                    Coldplay                154187.0\n",
       "34                  ज्ञान अमृत                147801.0\n",
       "43          पवित्र पुस्तक गीता                137779.0\n",
       "47     Matru Pitru Pujan Diwas                 86689.0\n",
       "42                        F-22                 85364.0\n",
       "23                     seokjin                 61483.0\n",
       "26      Kashmir Solidarity Day                 54094.0"
      ]
     },
     "execution_count": 10,
     "metadata": {},
     "output_type": "execute_result"
    }
   ],
   "source": [
    "india_trends = top_ten_trends(23424848, 10)\n",
    "india_trends"
   ]
  },
  {
   "cell_type": "code",
   "execution_count": 11,
   "id": "7c270788",
   "metadata": {},
   "outputs": [
    {
     "data": {
      "image/png": "[encoded data removed]",
      "text/plain": [
       "<Figure size 864x360 with 1 Axes>"
      ]
     },
     "metadata": {
      "needs_background": "light"
     },
     "output_type": "display_data"
    }
   ],
   "source": [
    "\n",
    "\n",
    "plt.figure(figsize=(12,5))\n",
    "sns.barplot(x='Trending_topic',y='_tweet_Volume_of_topic',data=india_trends,ci=None)\n",
    "plt.title(\"Top 10 trending topic and respective tweet volume\")\n",
    "plt.xticks(rotation='vertical')\n",
    "plt.show()\n"
   ]
  }
 ],
 "metadata": {
  "kernelspec": {
   "display_name": "Python 3 (ipykernel)",
   "language": "python",
   "name": "python3"
  },
  "language_info": {
   "codemirror_mode": {
    "name": "ipython",
    "version": 3
   },
   "file_extension": ".py",
   "mimetype": "text/x-python",
   "name": "python",
   "nbconvert_exporter": "python",
   "pygments_lexer": "ipython3",
   "version": "3.10.4"
  },
  "vscode": {
   "interpreter": {
    "hash": "3784583d684512f413c3d2ed8d6149d9ead2f6f8e1516a4f891671d7021ad8b3"
   }
  }
 },
 "nbformat": 4,
 "nbformat_minor": 5
}
